{
  "nbformat": 4,
  "nbformat_minor": 0,
  "metadata": {
    "colab": {
      "provenance": []
    },
    "kernelspec": {
      "name": "python3",
      "display_name": "Python 3"
    },
    "language_info": {
      "name": "python"
    }
  },
  "cells": [
    {
      "cell_type": "code",
      "execution_count": null,
      "metadata": {
        "colab": {
          "base_uri": "https://localhost:8080/"
        },
        "id": "Dp5YYkeGtW6V",
        "outputId": "a0769005-de4c-44e6-9396-494062e74aa3"
      },
      "outputs": [
        {
          "output_type": "stream",
          "name": "stdout",
          "text": [
            "Accuracy: 0.97847533632287\n",
            "\n",
            "Classification Report:\n",
            "              precision    recall  f1-score   support\n",
            "\n",
            "         ham       0.99      0.99      0.99       965\n",
            "        spam       0.91      0.93      0.92       150\n",
            "\n",
            "    accuracy                           0.98      1115\n",
            "   macro avg       0.95      0.96      0.95      1115\n",
            "weighted avg       0.98      0.98      0.98      1115\n",
            "\n",
            "\n",
            "Cross-Validation Scores: [0.98295964 0.98206278 0.97935368 0.98114901 0.97845601]\n",
            "Mean CV Accuracy: 0.980796225777105\n"
          ]
        }
      ],
      "source": [
        "from sklearn.feature_extraction.text import CountVectorizer\n",
        "from sklearn.naive_bayes import MultinomialNB\n",
        "from sklearn.model_selection import train_test_split, cross_val_score\n",
        "from sklearn.metrics import classification_report, accuracy_score\n",
        "import pandas as pd\n",
        "\n",
        "# Load data from CSV\n",
        "# Source: https://www.kaggle.com/datasets/uciml/sms-spam-collection-dataset\n",
        "data = pd.read_csv(\"spam_data.csv\", encoding='latin-1')\n",
        "data = data[['v1', 'v2']]  # Select only relevant columns\n",
        "\n",
        "# Renaming columns for clarity\n",
        "data.columns = ['label', 'text']\n",
        "\n",
        "# Vectorization\n",
        "vectorizer = CountVectorizer()\n",
        "X = vectorizer.fit_transform(data['text'])\n",
        "\n",
        "# Splitting data into train and test sets\n",
        "X_train, X_test, y_train, y_test = train_test_split(X, data['label'], test_size=0.2, random_state=42)\n",
        "\n",
        "# Training the Naive Bayes classifier\n",
        "clf = MultinomialNB(alpha=1)  # alpha=1 for Laplace smoothing\n",
        "clf.fit(X_train, y_train)\n",
        "\n",
        "# Predicting on test data\n",
        "y_pred = clf.predict(X_test)\n",
        "\n",
        "# Evaluating model performance\n",
        "print(\"Accuracy:\", accuracy_score(y_test, y_pred))\n",
        "print(\"\\nClassification Report:\")\n",
        "print(classification_report(y_test, y_pred))\n",
        "\n",
        "# Cross-validation\n",
        "cv_scores = cross_val_score(clf, X, data['label'], cv=5)\n",
        "print(\"\\nCross-Validation Scores:\", cv_scores)\n",
        "print(\"Mean CV Accuracy:\", cv_scores.mean())\n"
      ]
    },
    {
      "cell_type": "code",
      "source": [
        "from sklearn.feature_extraction.text import CountVectorizer\n",
        "from sklearn.naive_bayes import MultinomialNB\n",
        "import pandas as pd\n",
        "\n",
        "data = pd.read_csv(\"spam_data.csv\", encoding='latin-1')\n",
        "data = data[['v1', 'v2']]\n",
        "data.columns = ['label', 'text']\n",
        "# Vectorization\n",
        "vectorizer = CountVectorizer()\n",
        "X = vectorizer.fit_transform(data['text'])\n",
        "y = data['label']\n",
        "\n",
        "# Training the Naive Bayes classifier\n",
        "clf = MultinomialNB(alpha=1)  # alpha=1 for Laplace smoothing\n",
        "clf.fit(X, y)\n",
        "\n",
        "def classify_message(message):\n",
        "    message_vectorized = vectorizer.transform([message])\n",
        "    probabilities = clf.predict_proba(message_vectorized)[0]\n",
        "    return probabilities\n",
        "\n",
        "user_message = input(\"Enter your message: \")\n",
        "\n",
        "probabilities = classify_message(user_message)\n",
        "\n",
        "print(f\"The message is {probabilities[1]*100:.2f}% likely to be spam.\")\n",
        "print(f\"The message is {probabilities[0]*100:.2f}% likely to be not spam.\")\n"
      ],
      "metadata": {
        "colab": {
          "base_uri": "https://localhost:8080/"
        },
        "id": "jDqL5SeFufLZ",
        "outputId": "47b4a42b-dfcf-4c99-8ff5-fe6c2703dcdd"
      },
      "execution_count": null,
      "outputs": [
        {
          "output_type": "stream",
          "name": "stdout",
          "text": [
            "Enter your message: Congratulations! you won a 5 day trip to hawaii\n",
            "The message is 77.82% likely to be spam.\n",
            "The message is 22.18% likely to be not spam.\n"
          ]
        }
      ]
    }
  ]
}